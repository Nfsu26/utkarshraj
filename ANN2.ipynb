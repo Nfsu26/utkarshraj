{
  "nbformat": 4,
  "nbformat_minor": 0,
  "metadata": {
    "colab": {
      "provenance": [],
      "authorship_tag": "ABX9TyMC4DRqikc/u5hKqtAgwlWW",
      "include_colab_link": true
    },
    "kernelspec": {
      "name": "python3",
      "display_name": "Python 3"
    },
    "language_info": {
      "name": "python"
    }
  },
  "cells": [
    {
      "cell_type": "markdown",
      "metadata": {
        "id": "view-in-github",
        "colab_type": "text"
      },
      "source": [
        "<a href=\"https://colab.research.google.com/github/Nfsu26/utkarshraj/blob/main/ANN2.ipynb\" target=\"_parent\"><img src=\"https://colab.research.google.com/assets/colab-badge.svg\" alt=\"Open In Colab\"/></a>"
      ]
    },
    {
      "cell_type": "code",
      "execution_count": null,
      "metadata": {
        "id": "Onci0XyVFfmM"
      },
      "outputs": [],
      "source": [
        "import tensorflow as tf\n",
        "import numpy as np"
      ]
    },
    {
      "cell_type": "code",
      "source": [
        "rng= np.random"
      ],
      "metadata": {
        "id": "H3CWd5PcFwCh"
      },
      "execution_count": null,
      "outputs": []
    },
    {
      "cell_type": "code",
      "source": [
        "#parameter\n",
        "learning_rate= 0.001\n",
        "training_step= 1000\n",
        "display_step= 50"
      ],
      "metadata": {
        "id": "V6YiV1rTF53w"
      },
      "execution_count": null,
      "outputs": []
    },
    {
      "cell_type": "code",
      "source": [
        "#training data\n",
        "X= np.array([3.3,4.4,5.5,6.71,6.93,4.168,9.779,7.042,10.791,5.313,7.997,5.654,9.27,3.1])\n",
        "Y= np.array([1.7,2.76,2.09,3.19,1.694,1.573,3.366,2.596,2.531,1.221,2.827,3.465,1.65,2.904,2.42,2.94,1.3])"
      ],
      "metadata": {
        "id": "k20_Q32cGbnA"
      },
      "execution_count": null,
      "outputs": []
    },
    {
      "cell_type": "code",
      "source": [
        "W= tf.Variable(rng.randn(), name= 'weight')\n",
        "B= tf.Variable(rng.randn(), name= 'bias')\n",
        "print(W)\n",
        "print(B)"
      ],
      "metadata": {
        "colab": {
          "base_uri": "https://localhost:8080/"
        },
        "id": "kuSjD_1aIIai",
        "outputId": "86aaf3dc-a067-43a0-b092-649eff9c6cf5"
      },
      "execution_count": null,
      "outputs": [
        {
          "output_type": "stream",
          "name": "stdout",
          "text": [
            "<tf.Variable 'weight:0' shape=() dtype=float32, numpy=1.2552991>\n",
            "<tf.Variable 'bias:0' shape=() dtype=float32, numpy=0.0047444585>\n"
          ]
        }
      ]
    },
    {
      "cell_type": "code",
      "source": [
        "# Linear regression (Wx + b)\n",
        "def linear_reg(x):\n",
        "  return  W*x+B\n",
        "\n",
        "  # Mean square error.\n",
        "  def mean_square(y_pred, y_true):\n",
        "    return tf.reduce_mean(tf.square(y_pred, y_true))\n"
      ],
      "metadata": {
        "id": "GakwApvNJVih"
      },
      "execution_count": null,
      "outputs": []
    },
    {
      "cell_type": "code",
      "source": [
        "# Stochastic Gradient Descent Optimizer\n",
        "optimizer= tf.optimizers.SGD(learning_rate)\n",
        "# Optimization process\n",
        "def run_optimization():\n",
        "  # Wrap computation inside a GradientTape for automatic differentiation\n",
        "  with tf.GradientTape() as g:\n",
        "    pred = linear_reg(X) #forward propagation\n",
        "    loss = mean_square(pred, Y)\n",
        "    #compute Gradient\n",
        "    gradients= g.gradient(loss, [w,b]) #for the different values\n",
        "    optimizer.apply_gradients(zip(gradient[w,b])) #update W and b following gradients\n"
      ],
      "metadata": {
        "id": "S-HLfM-rK1dx"
      },
      "execution_count": null,
      "outputs": []
    },
    {
      "cell_type": "code",
      "source": [
        "# Run training for the given number of steps\n",
        "for step in range(1, training_step + 1):\n",
        "\n",
        "\n",
        "  run_optimization()\n",
        "  if step % display_step == 0:\n",
        "    pred= linear_reg(X)\n",
        "    loss = mean_square(pred, Y)\n",
        "    print(\"step:%i, loss:%f, W:%f, b:%f\" (step, loss, W.numpy(), b.numpy()))\n",
        "\n",
        "    import matplotlib.pyplot as Plt\n",
        "    # Graphic display\n",
        "  plt.plot(X, Y, 'ro', label='orig data')\n",
        "  plt.plot(X, np.array(W*x+b), label='fitted line')\n",
        "  plt.legend()\n",
        "  plt.show()\n"
      ],
      "metadata": {
        "colab": {
          "base_uri": "https://localhost:8080/",
          "height": 401
        },
        "id": "jw-hb-HOM5xJ",
        "outputId": "0f3b83d3-8c73-4922-fb93-72f95f1a5380"
      },
      "execution_count": null,
      "outputs": [
        {
          "output_type": "stream",
          "name": "stderr",
          "text": [
            "<>:9: SyntaxWarning: 'str' object is not callable; perhaps you missed a comma?\n",
            "<>:9: SyntaxWarning: 'str' object is not callable; perhaps you missed a comma?\n",
            "<ipython-input-41-2aca4a27f4ec>:9: SyntaxWarning: 'str' object is not callable; perhaps you missed a comma?\n",
            "  print(\"step:%i, loss:%f, W:%f, b:%f\" (step, loss, W.numpy(), b.numpy()))\n"
          ]
        },
        {
          "output_type": "error",
          "ename": "NameError",
          "evalue": "name 'mean_square' is not defined",
          "traceback": [
            "\u001b[0;31m---------------------------------------------------------------------------\u001b[0m",
            "\u001b[0;31mNameError\u001b[0m                                 Traceback (most recent call last)",
            "\u001b[0;32m<ipython-input-41-2aca4a27f4ec>\u001b[0m in \u001b[0;36m<cell line: 2>\u001b[0;34m()\u001b[0m\n\u001b[1;32m      3\u001b[0m \u001b[0;34m\u001b[0m\u001b[0m\n\u001b[1;32m      4\u001b[0m \u001b[0;34m\u001b[0m\u001b[0m\n\u001b[0;32m----> 5\u001b[0;31m   \u001b[0mrun_optimization\u001b[0m\u001b[0;34m(\u001b[0m\u001b[0;34m)\u001b[0m\u001b[0;34m\u001b[0m\u001b[0;34m\u001b[0m\u001b[0m\n\u001b[0m\u001b[1;32m      6\u001b[0m   \u001b[0;32mif\u001b[0m \u001b[0mstep\u001b[0m \u001b[0;34m%\u001b[0m \u001b[0mdisplay_step\u001b[0m \u001b[0;34m==\u001b[0m \u001b[0;36m0\u001b[0m\u001b[0;34m:\u001b[0m\u001b[0;34m\u001b[0m\u001b[0;34m\u001b[0m\u001b[0m\n\u001b[1;32m      7\u001b[0m     \u001b[0mpred\u001b[0m\u001b[0;34m=\u001b[0m \u001b[0mlinear_reg\u001b[0m\u001b[0;34m(\u001b[0m\u001b[0mX\u001b[0m\u001b[0;34m)\u001b[0m\u001b[0;34m\u001b[0m\u001b[0;34m\u001b[0m\u001b[0m\n",
            "\u001b[0;32m<ipython-input-39-f2602ba130b1>\u001b[0m in \u001b[0;36mrun_optimization\u001b[0;34m()\u001b[0m\n\u001b[1;32m      6\u001b[0m   \u001b[0;32mwith\u001b[0m \u001b[0mtf\u001b[0m\u001b[0;34m.\u001b[0m\u001b[0mGradientTape\u001b[0m\u001b[0;34m(\u001b[0m\u001b[0;34m)\u001b[0m \u001b[0;32mas\u001b[0m \u001b[0mg\u001b[0m\u001b[0;34m:\u001b[0m\u001b[0;34m\u001b[0m\u001b[0;34m\u001b[0m\u001b[0m\n\u001b[1;32m      7\u001b[0m     \u001b[0mpred\u001b[0m \u001b[0;34m=\u001b[0m \u001b[0mlinear_reg\u001b[0m\u001b[0;34m(\u001b[0m\u001b[0mX\u001b[0m\u001b[0;34m)\u001b[0m \u001b[0;31m#forward propagation\u001b[0m\u001b[0;34m\u001b[0m\u001b[0;34m\u001b[0m\u001b[0m\n\u001b[0;32m----> 8\u001b[0;31m     \u001b[0mloss\u001b[0m \u001b[0;34m=\u001b[0m \u001b[0mmean_square\u001b[0m\u001b[0;34m(\u001b[0m\u001b[0mpred\u001b[0m\u001b[0;34m,\u001b[0m \u001b[0mY\u001b[0m\u001b[0;34m)\u001b[0m\u001b[0;34m\u001b[0m\u001b[0;34m\u001b[0m\u001b[0m\n\u001b[0m\u001b[1;32m      9\u001b[0m     \u001b[0;31m#compute Gradient\u001b[0m\u001b[0;34m\u001b[0m\u001b[0;34m\u001b[0m\u001b[0m\n\u001b[1;32m     10\u001b[0m     \u001b[0mgradients\u001b[0m\u001b[0;34m=\u001b[0m \u001b[0mg\u001b[0m\u001b[0;34m.\u001b[0m\u001b[0mgradient\u001b[0m\u001b[0;34m(\u001b[0m\u001b[0mloss\u001b[0m\u001b[0;34m,\u001b[0m \u001b[0;34m[\u001b[0m\u001b[0mw\u001b[0m\u001b[0;34m,\u001b[0m\u001b[0mb\u001b[0m\u001b[0;34m]\u001b[0m\u001b[0;34m)\u001b[0m \u001b[0;31m#for the different values\u001b[0m\u001b[0;34m\u001b[0m\u001b[0;34m\u001b[0m\u001b[0m\n",
            "\u001b[0;31mNameError\u001b[0m: name 'mean_square' is not defined"
          ]
        }
      ]
    }
  ]
}