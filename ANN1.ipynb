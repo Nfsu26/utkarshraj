{
  "nbformat": 4,
  "nbformat_minor": 0,
  "metadata": {
    "colab": {
      "provenance": [],
      "authorship_tag": "ABX9TyPM5bQ3uTtucMDk1qHDD5FX",
      "include_colab_link": true
    },
    "kernelspec": {
      "name": "python3",
      "display_name": "Python 3"
    },
    "language_info": {
      "name": "python"
    }
  },
  "cells": [
    {
      "cell_type": "markdown",
      "metadata": {
        "id": "view-in-github",
        "colab_type": "text"
      },
      "source": [
        "<a href=\"https://colab.research.google.com/github/Nfsu26/utkarshraj/blob/main/ANN1.ipynb\" target=\"_parent\"><img src=\"https://colab.research.google.com/assets/colab-badge.svg\" alt=\"Open In Colab\"/></a>"
      ]
    },
    {
      "cell_type": "code",
      "execution_count": null,
      "metadata": {
        "id": "lgM5hYbB_1e7"
      },
      "outputs": [],
      "source": [
        "import tensorflow as tf\n",
        "import numpy as np\n",
        "rng = np.random"
      ]
    },
    {
      "cell_type": "code",
      "source": [
        "a=tf.constant(2)\n",
        "b=tf.constant(3)\n",
        "\n",
        "add= tf.add(a,b)\n",
        "print(add)"
      ],
      "metadata": {
        "colab": {
          "base_uri": "https://localhost:8080/"
        },
        "id": "f6S4LmF0_7H7",
        "outputId": "89aac49c-7cef-4d60-b351-1734a38e56bb"
      },
      "execution_count": null,
      "outputs": [
        {
          "output_type": "stream",
          "name": "stdout",
          "text": [
            "tf.Tensor(5, shape=(), dtype=int32)\n"
          ]
        }
      ]
    },
    {
      "cell_type": "code",
      "source": [
        "print(add.numpy())"
      ],
      "metadata": {
        "colab": {
          "base_uri": "https://localhost:8080/"
        },
        "id": "xdOmi5qCAXcT",
        "outputId": "91c62a1a-f2bf-46f3-fb41-4581ac517798"
      },
      "execution_count": null,
      "outputs": [
        {
          "output_type": "stream",
          "name": "stdout",
          "text": [
            "5\n"
          ]
        }
      ]
    },
    {
      "cell_type": "code",
      "source": [
        "div= tf.divide(a,b)\n",
        "sub= tf.subtract(a,b)\n",
        "mul = tf.multiply(a,b)"
      ],
      "metadata": {
        "id": "FA548rneAt1A"
      },
      "execution_count": null,
      "outputs": []
    },
    {
      "cell_type": "code",
      "source": [
        "print(div)\n",
        "print(sub)\n",
        "print(mul)"
      ],
      "metadata": {
        "colab": {
          "base_uri": "https://localhost:8080/"
        },
        "id": "UcYSy9QUBSJZ",
        "outputId": "f14138a7-60d8-4635-8d9a-d378f2e3436f"
      },
      "execution_count": null,
      "outputs": [
        {
          "output_type": "stream",
          "name": "stdout",
          "text": [
            "tf.Tensor(0.6666666666666666, shape=(), dtype=float64)\n",
            "tf.Tensor(-1, shape=(), dtype=int32)\n",
            "tf.Tensor(6, shape=(), dtype=int32)\n"
          ]
        }
      ]
    },
    {
      "cell_type": "code",
      "source": [
        "red_mean= tf.reduce_mean([a,b])\n",
        "\n",
        "print(red_mean)"
      ],
      "metadata": {
        "colab": {
          "base_uri": "https://localhost:8080/"
        },
        "id": "2SDeVaBtBhM5",
        "outputId": "28751cdc-2999-48c9-b32d-d537495413b6"
      },
      "execution_count": null,
      "outputs": [
        {
          "output_type": "stream",
          "name": "stdout",
          "text": [
            "tf.Tensor(2, shape=(), dtype=int32)\n"
          ]
        }
      ]
    },
    {
      "cell_type": "code",
      "source": [
        "red_sum= tf.reduce_sum([a,b])\n",
        "print(red_sum)"
      ],
      "metadata": {
        "colab": {
          "base_uri": "https://localhost:8080/"
        },
        "id": "MN3DbKFeDYAB",
        "outputId": "ccc282a6-60b5-4264-d8d5-749635875ebc"
      },
      "execution_count": null,
      "outputs": [
        {
          "output_type": "stream",
          "name": "stdout",
          "text": [
            "tf.Tensor(5, shape=(), dtype=int32)\n"
          ]
        }
      ]
    },
    {
      "cell_type": "code",
      "source": [
        "a=tf.constant([[1,2],[2,3]])\n",
        "b=tf.constant([[3,2],[4,3]])\n",
        "mat= tf.matmul(a,b)\n",
        "print(mat)"
      ],
      "metadata": {
        "colab": {
          "base_uri": "https://localhost:8080/"
        },
        "id": "nENVrxYIDumg",
        "outputId": "126c071d-19e6-4c32-9372-32bed049eb15"
      },
      "execution_count": null,
      "outputs": [
        {
          "output_type": "stream",
          "name": "stdout",
          "text": [
            "tf.Tensor(\n",
            "[[11  8]\n",
            " [18 13]], shape=(2, 2), dtype=int32)\n"
          ]
        }
      ]
    }
  ]
}