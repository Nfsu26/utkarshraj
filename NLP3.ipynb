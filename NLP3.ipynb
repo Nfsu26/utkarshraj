{
  "nbformat": 4,
  "nbformat_minor": 0,
  "metadata": {
    "colab": {
      "provenance": [],
      "authorship_tag": "ABX9TyPcjwsGoPfC+YBum/iAZAHJ",
      "include_colab_link": true
    },
    "kernelspec": {
      "name": "python3",
      "display_name": "Python 3"
    },
    "language_info": {
      "name": "python"
    }
  },
  "cells": [
    {
      "cell_type": "markdown",
      "metadata": {
        "id": "view-in-github",
        "colab_type": "text"
      },
      "source": [
        "<a href=\"https://colab.research.google.com/github/Nfsu26/utkarshraj/blob/main/NLP3.ipynb\" target=\"_parent\"><img src=\"https://colab.research.google.com/assets/colab-badge.svg\" alt=\"Open In Colab\"/></a>"
      ]
    },
    {
      "cell_type": "code",
      "execution_count": null,
      "metadata": {
        "colab": {
          "base_uri": "https://localhost:8080/"
        },
        "id": "rLyRET4sFN3R",
        "outputId": "9398f641-cbbf-475f-cb10-a3049772decb"
      },
      "outputs": [
        {
          "output_type": "stream",
          "name": "stdout",
          "text": [
            "{'Today': 1, 'is': 1, '04th': 1, 'March,': 1, '2024': 1, 'and': 1, 'Monday.': 1, 'We': 1, 'are': 1, 'currently': 1, 'at': 1, 'NFSU': 1}\n"
          ]
        }
      ],
      "source": [
        "import numpy as np\n",
        "sentence_bow = {}\n",
        "sentence = 'Today is 04th March, 2024 and Monday. We are currently at NFSU'\n",
        "for token in sentence.split():\n",
        "  sentence_bow[token] = 1\n",
        "print(sentence_bow)"
      ]
    },
    {
      "cell_type": "code",
      "source": [
        "import numpy as np\n",
        "import pandas as pd\n",
        "sentence = 'Today is 04th March, 2024 and Monday.\\n We are currently at NFSU'\n",
        "corpus = {}\n",
        "for i, s in enumerate(sentence.split('\\n')):\n",
        "  corpus['s{}'.format(i)] = dict((tok,1) for tok in s.split())\n",
        "  df = pd.DataFrame.from_records(corpus).fillna(0).astype(int).T\n",
        "print(df)"
      ],
      "metadata": {
        "colab": {
          "base_uri": "https://localhost:8080/"
        },
        "id": "HNXsgnFhX20m",
        "outputId": "38d212cd-5ca8-4ffe-db0b-8f4359e48ba1"
      },
      "execution_count": null,
      "outputs": [
        {
          "output_type": "stream",
          "name": "stdout",
          "text": [
            "    Today  is  04th  March,  2024  and  Monday.  We  are  currently  at  NFSU\n",
            "s0      1   1     1       1     1    1        1   0    0          0   0     0\n",
            "s1      0   0     0       0     0    0        0   1    1          1   1     1\n"
          ]
        }
      ]
    },
    {
      "cell_type": "code",
      "source": [
        "import numpy as np\n",
        "import pandas as pd\n",
        "sentence = 'Today is 04th March, 2024 and Monday.\\n We are currently at NFSU'\n",
        "corpus = {}\n",
        "for i, s in enumerate(sentence.split('\\n')):\n",
        "  corpus['s{}'.format(i)] = dict((tok,1) for tok in s.split())\n",
        "  df = pd.DataFrame.from_records(corpus).fillna(0).astype(int).T\n",
        "df = df.T\n",
        "print(df.s0.dot(df.s1))"
      ],
      "metadata": {
        "colab": {
          "base_uri": "https://localhost:8080/"
        },
        "id": "0vpCFGxraDaf",
        "outputId": "f24248b7-a01f-45ef-d44f-9a94f5266c0d"
      },
      "execution_count": null,
      "outputs": [
        {
          "output_type": "stream",
          "name": "stdout",
          "text": [
            "0\n"
          ]
        }
      ]
    },
    {
      "cell_type": "code",
      "source": [
        "!pip install nltk"
      ],
      "metadata": {
        "colab": {
          "base_uri": "https://localhost:8080/"
        },
        "id": "vdtEyQbXi8Ix",
        "outputId": "174c567d-17ff-4b7c-c999-89dbc608fe71"
      },
      "execution_count": null,
      "outputs": [
        {
          "output_type": "stream",
          "name": "stdout",
          "text": [
            "Requirement already satisfied: nltk in /usr/local/lib/python3.10/dist-packages (3.8.1)\n",
            "Requirement already satisfied: click in /usr/local/lib/python3.10/dist-packages (from nltk) (8.1.7)\n",
            "Requirement already satisfied: joblib in /usr/local/lib/python3.10/dist-packages (from nltk) (1.3.2)\n",
            "Requirement already satisfied: regex>=2021.8.3 in /usr/local/lib/python3.10/dist-packages (from nltk) (2023.12.25)\n",
            "Requirement already satisfied: tqdm in /usr/local/lib/python3.10/dist-packages (from nltk) (4.66.2)\n"
          ]
        }
      ]
    },
    {
      "cell_type": "code",
      "source": [
        "nltk.download('punkt')"
      ],
      "metadata": {
        "colab": {
          "base_uri": "https://localhost:8080/"
        },
        "id": "Jff5Sfpgjhfc",
        "outputId": "46141de9-8dbc-41c1-8f83-8c70d2438050"
      },
      "execution_count": null,
      "outputs": [
        {
          "output_type": "stream",
          "name": "stderr",
          "text": [
            "[nltk_data] Downloading package punkt to /root/nltk_data...\n",
            "[nltk_data]   Unzipping tokenizers/punkt.zip.\n"
          ]
        },
        {
          "output_type": "execute_result",
          "data": {
            "text/plain": [
              "True"
            ]
          },
          "metadata": {},
          "execution_count": 11
        }
      ]
    },
    {
      "cell_type": "code",
      "source": [
        "#text to sentences\n",
        "import nltk\n",
        "filename = \"/content/sampletext.txt\"\n",
        "file = open(filename, \"r\", encoding = \"utf-8\")\n",
        "text = file.read()\n",
        "text = text.replace(\"\\n\", \" \")\n",
        "tokenizer = nltk.data.load(\"tokenizers/punkt/english.pickle\")\n",
        "sentence = tokenizer.tokenize(text)\n",
        "print(sentence)"
      ],
      "metadata": {
        "colab": {
          "base_uri": "https://localhost:8080/"
        },
        "id": "Ir-FfuNDaSF7",
        "outputId": "cb1fb444-921f-4268-cf1a-1233e497b32b"
      },
      "execution_count": null,
      "outputs": [
        {
          "output_type": "stream",
          "name": "stdout",
          "text": [
            "['I Am Very Rich Person']\n"
          ]
        }
      ]
    },
    {
      "cell_type": "code",
      "source": [
        "import nltk\n",
        "from nltk.tokenize import word_tokenize\n",
        "filename = \"/content/sampletext.txt\"\n",
        "file = open(filename, \"r\", encoding = \"utf-8\")\n",
        "tokenizer =  nltk.data.load(\"tokenizers/punkt/english.pickle\")\n",
        "print(word_tokenize(text))"
      ],
      "metadata": {
        "colab": {
          "base_uri": "https://localhost:8080/"
        },
        "id": "IK9Su9ywcmYl",
        "outputId": "f0ac1e41-c0eb-4bc7-d316-cb848c46d82a"
      },
      "execution_count": null,
      "outputs": [
        {
          "output_type": "stream",
          "name": "stdout",
          "text": [
            "['I', 'Am', 'Very', 'Rich', 'Person']\n"
          ]
        }
      ]
    },
    {
      "cell_type": "code",
      "source": [
        "nltk.download('stopwords')"
      ],
      "metadata": {
        "colab": {
          "base_uri": "https://localhost:8080/"
        },
        "id": "SDGby2WbmXO2",
        "outputId": "9fb3b8da-28bf-429b-a0b4-38aabf8b6b0f"
      },
      "execution_count": null,
      "outputs": [
        {
          "output_type": "stream",
          "name": "stderr",
          "text": [
            "[nltk_data] Downloading package stopwords to /root/nltk_data...\n",
            "[nltk_data]   Unzipping corpora/stopwords.zip.\n"
          ]
        },
        {
          "output_type": "execute_result",
          "data": {
            "text/plain": [
              "True"
            ]
          },
          "metadata": {},
          "execution_count": 22
        }
      ]
    },
    {
      "cell_type": "code",
      "source": [
        "#stop word\n",
        "from nltk.corpus import stopwords\n",
        "from nltk.tokenize import word_tokenize\n",
        "import nltk\n",
        "mySW = set(stopwords.words(\"english\"))\n",
        "filename = \"/content/sampletext.txt\"\n",
        "file = open(filename, \"r\", encoding=\"utf-8\")\n",
        "text = file.read()\n",
        "text = text.replace(\"\\n\", \" \")\n",
        "tokenizer = nltk.data.load(\"tokenizers/punkt/english.pickle\")\n",
        "tokens = word_tokenize(text)\n",
        "\n",
        "filtered_tokens = [token for token in tokens if token not in mySW]\n",
        "\n",
        "print(filtered_tokens)"
      ],
      "metadata": {
        "colab": {
          "base_uri": "https://localhost:8080/"
        },
        "id": "pXyWSU9WdQqZ",
        "outputId": "2982715e-5947-49f7-ab8f-9efdeaa9954f"
      },
      "execution_count": null,
      "outputs": [
        {
          "output_type": "stream",
          "name": "stdout",
          "text": [
            "['I', 'Am', 'Very', 'Rich', 'Person']\n"
          ]
        }
      ]
    },
    {
      "cell_type": "code",
      "source": [
        "from nltk.corpus import stopwords\n",
        "from nltk.tokenize import word_tokenize\n",
        "import string\n",
        "mySW = set(stopwords.words(\"english\"))\n",
        "filename = \"/content/sampletext.txt\"\n",
        "file = open(filename, \"r\", encoding=\"utf-8\")\n",
        "text = file.read()\n",
        "text = text.replace(\"\\n\", \" \")\n",
        "tokenizer = nltk.data.load(\"tokenizers/punkt/english.pickle\")\n",
        "tokens = word_tokenize(text)\n",
        "\n",
        "filtered_tokens = [token for token in tokens if token.lower() not in mySW and token not in string.punctuation]\n",
        "\n",
        "print(filtered_tokens)\n",
        "\n"
      ],
      "metadata": {
        "colab": {
          "base_uri": "https://localhost:8080/"
        },
        "id": "YVYoduaHeJwA",
        "outputId": "f5302451-620c-4479-a06e-1b3c9ccbbca4"
      },
      "execution_count": null,
      "outputs": [
        {
          "output_type": "stream",
          "name": "stdout",
          "text": [
            "['Rich', 'Person']\n"
          ]
        }
      ]
    },
    {
      "cell_type": "code",
      "source": [
        "#stemming\n",
        "from nltk.stem.porter import PorterStemmer\n",
        "stemmer = PorterStemmer()\n",
        "print(stemmer.stem('cars'))\n",
        "print(stemmer.stem('brushing'))\n",
        "print(stemmer.stem('formaltying'))\n",
        "print(stemmer.stem('motivation'))"
      ],
      "metadata": {
        "colab": {
          "base_uri": "https://localhost:8080/"
        },
        "id": "MyiJW8tQfDc4",
        "outputId": "02007190-16bf-4d57-8e4a-87e571a12cae"
      },
      "execution_count": null,
      "outputs": [
        {
          "output_type": "stream",
          "name": "stdout",
          "text": [
            "car\n",
            "brush\n",
            "formalti\n",
            "motiv\n"
          ]
        }
      ]
    },
    {
      "cell_type": "code",
      "source": [
        "nltk.download('wordnet')"
      ],
      "metadata": {
        "colab": {
          "base_uri": "https://localhost:8080/"
        },
        "id": "YSoeRXUioC87",
        "outputId": "39abeafa-7c6d-45f0-f41c-26da7bd85eac"
      },
      "execution_count": null,
      "outputs": [
        {
          "output_type": "stream",
          "name": "stderr",
          "text": [
            "[nltk_data] Downloading package wordnet to /root/nltk_data...\n"
          ]
        },
        {
          "output_type": "execute_result",
          "data": {
            "text/plain": [
              "True"
            ]
          },
          "metadata": {},
          "execution_count": 34
        }
      ]
    },
    {
      "cell_type": "code",
      "source": [
        "#lemmatization\n",
        "import nltk\n",
        "\n",
        "from nltk.stem import WordNetLemmatizer\n",
        "lemmatizer = WordNetLemmatizer()\n",
        "print(lemmatizer.lemmatize('better', pos = 'a'))"
      ],
      "metadata": {
        "colab": {
          "base_uri": "https://localhost:8080/"
        },
        "id": "Q5WRiAEOfz6U",
        "outputId": "7e417188-e89b-415a-dd65-445370414018"
      },
      "execution_count": null,
      "outputs": [
        {
          "output_type": "stream",
          "name": "stdout",
          "text": [
            "good\n"
          ]
        }
      ]
    }
  ]
}