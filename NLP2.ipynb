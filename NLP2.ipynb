{
  "nbformat": 4,
  "nbformat_minor": 0,
  "metadata": {
    "colab": {
      "provenance": [],
      "authorship_tag": "ABX9TyM2T7eriI8mA7+mdtm2Jw43",
      "include_colab_link": true
    },
    "kernelspec": {
      "name": "python3",
      "display_name": "Python 3"
    },
    "language_info": {
      "name": "python"
    }
  },
  "cells": [
    {
      "cell_type": "markdown",
      "metadata": {
        "id": "view-in-github",
        "colab_type": "text"
      },
      "source": [
        "<a href=\"https://colab.research.google.com/github/Nfsu26/utkarshraj/blob/main/NLP2.ipynb\" target=\"_parent\"><img src=\"https://colab.research.google.com/assets/colab-badge.svg\" alt=\"Open In Colab\"/></a>"
      ]
    },
    {
      "cell_type": "code",
      "execution_count": null,
      "metadata": {
        "id": "2udWm6wRFO6O"
      },
      "outputs": [],
      "source": [
        "import pandas as pd\n",
        "import numpy as np"
      ]
    },
    {
      "cell_type": "code",
      "source": [
        "Sentence = 'Today is 04th March, 2024 and Monday. We are currently at NFSU'\n",
        "token_sentence = str.split(Sentence)\n",
        "print(token_sentence)\n"
      ],
      "metadata": {
        "colab": {
          "base_uri": "https://localhost:8080/"
        },
        "id": "3daJCOkUFmVz",
        "outputId": "28494f84-1c41-46e2-a4e2-760b2b0b6b8d"
      },
      "execution_count": null,
      "outputs": [
        {
          "output_type": "stream",
          "name": "stdout",
          "text": [
            "['Today', 'is', '04th', 'March,', '2024', 'and', 'Monday.', 'We', 'are', 'currently', 'at', 'NFSU']\n"
          ]
        }
      ]
    },
    {
      "cell_type": "code",
      "source": [
        "vocab = sorted(set(token_sentence))\n",
        "print(vocab)\n"
      ],
      "metadata": {
        "colab": {
          "base_uri": "https://localhost:8080/"
        },
        "id": "KhoU3ZzwGJBr",
        "outputId": "8c56a815-12bc-4ff0-b247-3b3fe9394f6b"
      },
      "execution_count": null,
      "outputs": [
        {
          "output_type": "stream",
          "name": "stdout",
          "text": [
            "['04th', '2024', 'March,', 'Monday.', 'NFSU', 'Today', 'We', 'and', 'are', 'at', 'currently', 'is']\n"
          ]
        }
      ]
    },
    {
      "cell_type": "code",
      "source": [
        "num_tokens = len(token_sentence)\n",
        "vocab_size = len(vocab)\n",
        "onehot_vectors = np.zeros((num_tokens, vocab_size), int)\n"
      ],
      "metadata": {
        "id": "TGmo-s9KGUmz"
      },
      "execution_count": null,
      "outputs": []
    },
    {
      "cell_type": "code",
      "source": [
        "for i, word in enumerate(token_sentence):\n",
        "  onehot_vectors[i,vocab.index(word)] =1\n",
        "print(onehot_vectors)\n",
        "print(pd.DataFrame (onehot_vectors, columns= vocab))\n"
      ],
      "metadata": {
        "colab": {
          "base_uri": "https://localhost:8080/"
        },
        "id": "GcFUa99rG3sL",
        "outputId": "199d3585-823b-4e95-c009-6af8f486e529"
      },
      "execution_count": null,
      "outputs": [
        {
          "output_type": "stream",
          "name": "stdout",
          "text": [
            "[[0 0 0 0 0 1 0 0 0 0 0 0]\n",
            " [0 0 0 0 0 0 0 0 0 0 0 1]\n",
            " [1 0 0 0 0 0 0 0 0 0 0 0]\n",
            " [0 0 1 0 0 0 0 0 0 0 0 0]\n",
            " [0 1 0 0 0 0 0 0 0 0 0 0]\n",
            " [0 0 0 0 0 0 0 1 0 0 0 0]\n",
            " [0 0 0 1 0 0 0 0 0 0 0 0]\n",
            " [0 0 0 0 0 0 1 0 0 0 0 0]\n",
            " [0 0 0 0 0 0 0 0 1 0 0 0]\n",
            " [0 0 0 0 0 0 0 0 0 0 1 0]\n",
            " [0 0 0 0 0 0 0 0 0 1 0 0]\n",
            " [0 0 0 0 1 0 0 0 0 0 0 0]]\n",
            "    04th  2024  March,  Monday.  NFSU  Today  We  and  are  at  currently  is\n",
            "0      0     0       0        0     0      1   0    0    0   0          0   0\n",
            "1      0     0       0        0     0      0   0    0    0   0          0   1\n",
            "2      1     0       0        0     0      0   0    0    0   0          0   0\n",
            "3      0     0       1        0     0      0   0    0    0   0          0   0\n",
            "4      0     1       0        0     0      0   0    0    0   0          0   0\n",
            "5      0     0       0        0     0      0   0    1    0   0          0   0\n",
            "6      0     0       0        1     0      0   0    0    0   0          0   0\n",
            "7      0     0       0        0     0      0   1    0    0   0          0   0\n",
            "8      0     0       0        0     0      0   0    0    1   0          0   0\n",
            "9      0     0       0        0     0      0   0    0    0   0          1   0\n",
            "10     0     0       0        0     0      0   0    0    0   1          0   0\n",
            "11     0     0       0        0     1      0   0    0    0   0          0   0\n"
          ]
        }
      ]
    }
  ]
}